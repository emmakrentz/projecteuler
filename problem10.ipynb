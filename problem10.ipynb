{
 "cells": [
  {
   "attachments": {},
   "cell_type": "markdown",
   "metadata": {},
   "source": [
    "Problem 9: Special Pythagorean triplet\n",
    "\n",
    "A Pythagorean triplet is a set of three natural numbers, a < b < c, for which\n",
    "a^2 + b^2 = c^2.\n",
    "For example, 3^2 + 4^2 = 9 + 16 = 25 = 5^2.\n",
    "There exists exactly one Pythagorean triplet for which a + b + c = 1000.\n",
    "Find the product abc.\n"
   ]
  },
  {
   "cell_type": "code",
   "execution_count": 6,
   "metadata": {},
   "outputs": [],
   "source": [
    "triples = []\n",
    "for num1 in range(0,1000):\n",
    "    for num2 in range(0,1000):\n",
    "        for num3 in range(0,1000):\n",
    "            if num1 + num2 + num3 == 1000:\n",
    "                triples.append([num1,num2,num3])"
   ]
  },
  {
   "cell_type": "code",
   "execution_count": 16,
   "metadata": {},
   "outputs": [],
   "source": [
    "ordered_triples = []\n",
    "for triple in range(0,len(triples)):\n",
    "    if triples[triple][0] < triples[triple][1] and triples[triple][1] < triples[triple][2]:\n",
    "        ordered_triples.append([triples[triple][0],triples[triple][1],triples[triple][2]])"
   ]
  },
  {
   "cell_type": "code",
   "execution_count": 17,
   "metadata": {},
   "outputs": [
    {
     "name": "stdout",
     "output_type": "stream",
     "text": [
      "31875000\n"
     ]
    }
   ],
   "source": [
    "for triple in range(0,len(ordered_triples)):\n",
    "    if ordered_triples[triple][0]**2 + ordered_triples[triple][1]**2 == ordered_triples[triple][2]**2:\n",
    "        print(ordered_triples[triple][0]*ordered_triples[triple][1]*ordered_triples[triple][2])"
   ]
  },
  {
   "cell_type": "code",
   "execution_count": null,
   "metadata": {},
   "outputs": [],
   "source": []
  }
 ],
 "metadata": {
  "kernelspec": {
   "display_name": "Python 3",
   "language": "python",
   "name": "python3"
  },
  "language_info": {
   "codemirror_mode": {
    "name": "ipython",
    "version": 3
   },
   "file_extension": ".py",
   "mimetype": "text/x-python",
   "name": "python",
   "nbconvert_exporter": "python",
   "pygments_lexer": "ipython3",
   "version": "3.10.4"
  },
  "orig_nbformat": 4,
  "vscode": {
   "interpreter": {
    "hash": "3ad933181bd8a04b432d3370b9dc3b0662ad032c4dfaa4e4f1596c548f763858"
   }
  }
 },
 "nbformat": 4,
 "nbformat_minor": 2
}
