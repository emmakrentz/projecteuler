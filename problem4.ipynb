{
 "cells": [
  {
   "attachments": {},
   "cell_type": "markdown",
   "metadata": {},
   "source": [
    "Problem 4: Largest Palindrome Product\n",
    "\n",
    "A palindromic number reads the same both ways. The largest palindrome made from the product of two 2-digit numbers is 9009 = 91 × 99.\n",
    "Find the largest palindrome made from the product of two 3-digit numbers."
   ]
  },
  {
   "cell_type": "code",
   "execution_count": 4,
   "metadata": {},
   "outputs": [
    {
     "name": "stdout",
     "output_type": "stream",
     "text": [
      "906609\n"
     ]
    }
   ],
   "source": [
    "# starting with the two largest 3-digit numbers and reversing\n",
    "num1 = 999\n",
    "num2 = 999\n",
    "pal_list = []\n",
    "\n",
    "# process will try: (999*999), (999*998), ..., (999*100), (998*999), (998*998), ..., (998*100), ..., (100*100)\n",
    "while num1 >= 100: # 3-digit numbers, so must be above 100\n",
    "    while num2 >= 100:\n",
    "        if str(num1*num2) == str(num1*num2)[::-1]: # check if each product is a palindrome\n",
    "            pal_list.append(num1*num2) # if so, append to palindrome list\n",
    "            num2 -= 1 # sub 1 from second number\n",
    "        else:\n",
    "            num2 -= 1 \n",
    "    num2 = 999 # reset second number\n",
    "    num1 -= 1 # sub 1 from first number\n",
    "\n",
    "print(max(pal_list))"
   ]
  },
  {
   "cell_type": "markdown",
   "metadata": {},
   "source": []
  }
 ],
 "metadata": {
  "kernelspec": {
   "display_name": "Python 3",
   "language": "python",
   "name": "python3"
  },
  "language_info": {
   "codemirror_mode": {
    "name": "ipython",
    "version": 3
   },
   "file_extension": ".py",
   "mimetype": "text/x-python",
   "name": "python",
   "nbconvert_exporter": "python",
   "pygments_lexer": "ipython3",
   "version": "3.10.4"
  },
  "orig_nbformat": 4,
  "vscode": {
   "interpreter": {
    "hash": "3ad933181bd8a04b432d3370b9dc3b0662ad032c4dfaa4e4f1596c548f763858"
   }
  }
 },
 "nbformat": 4,
 "nbformat_minor": 2
}
