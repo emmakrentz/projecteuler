{
 "cells": [
  {
   "attachments": {},
   "cell_type": "markdown",
   "metadata": {},
   "source": [
    "Problem 5: Smallest Multiple\n",
    "\n",
    "2520 is the smallest number that can be divided by each of the numbers from 1 to 10 without any remainder.\n",
    "What is the smallest positive number that is evenly divisible by all of the numbers from 1 to 20?"
   ]
  },
  {
   "attachments": {},
   "cell_type": "markdown",
   "metadata": {},
   "source": [
    "Methodology: each number can be written as a product of primes and exponents, n = p1^e1*p2^e2*...*pm^em.\n",
    "We find the highest power of each prime exponent as it exists among the range of numbers 1:20. \n",
    "i.e. 16 = 2^4, so 4 is the highest exponent for 2. However, 19 = 19^1, so 1 is the highest exponent to 19.\n",
    "Determine all these highest exponents for prime factors, multiply them together to achieve the smallest multiple."
   ]
  },
  {
   "cell_type": "code",
   "execution_count": 38,
   "metadata": {},
   "outputs": [],
   "source": [
    "from collections import defaultdict\n",
    "import numpy as np\n",
    "import pandas as pd\n",
    "\n",
    "def smallest_multiple(num,exp):\n",
    "\n",
    "    prime_factors = [2,3,5,7,11,13,17,19]\n",
    "    prime_factorization = defaultdict(list)\n",
    "    for x in range(2,num+1):\n",
    "        for prime_factor in prime_factors:\n",
    "            for power in range(1,exp):\n",
    "                if x % (prime_factor ** power) == 0:\n",
    "                    prime_factorization[x].append(prime_factor)\n",
    "\n",
    "    factor_counts = []\n",
    "    for index in prime_factorization.keys():\n",
    "        for factor in prime_factors:\n",
    "            if factor in prime_factorization[index]:\n",
    "                factor_counts.append([factor, prime_factorization[index].count(factor)])\n",
    "\n",
    "    exponent_list = []\n",
    "    df = pd.DataFrame(factor_counts, columns=['factor','count']).groupby(['factor'], as_index=False).max()\n",
    "    for val in df.index:\n",
    "        exponent_list.append(df.iloc[val]['factor']**df.iloc[val]['count'])\n",
    "    \n",
    "    return np.prod(exponent_list)"
   ]
  },
  {
   "cell_type": "code",
   "execution_count": 39,
   "metadata": {},
   "outputs": [
    {
     "data": {
      "text/plain": [
       "232792560"
      ]
     },
     "execution_count": 39,
     "metadata": {},
     "output_type": "execute_result"
    }
   ],
   "source": [
    "smallest_multiple(20,6)"
   ]
  }
 ],
 "metadata": {
  "kernelspec": {
   "display_name": "Python 3",
   "language": "python",
   "name": "python3"
  },
  "language_info": {
   "codemirror_mode": {
    "name": "ipython",
    "version": 3
   },
   "file_extension": ".py",
   "mimetype": "text/x-python",
   "name": "python",
   "nbconvert_exporter": "python",
   "pygments_lexer": "ipython3",
   "version": "3.10.4"
  },
  "orig_nbformat": 4,
  "vscode": {
   "interpreter": {
    "hash": "3ad933181bd8a04b432d3370b9dc3b0662ad032c4dfaa4e4f1596c548f763858"
   }
  }
 },
 "nbformat": 4,
 "nbformat_minor": 2
}
